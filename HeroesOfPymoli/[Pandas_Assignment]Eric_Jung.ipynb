{
 "cells": [
  {
   "cell_type": "code",
   "execution_count": 1,
   "metadata": {},
   "outputs": [
    {
     "data": {
      "text/plain": [
       "['Purchase ID', 'SN', 'Age', 'Gender', 'Item ID', 'Item Name', 'Price']"
      ]
     },
     "execution_count": 1,
     "metadata": {},
     "output_type": "execute_result"
    }
   ],
   "source": [
    "#### Heroes Of Pymoli Data Analysis\n",
    "\n",
    "# Dependencies and Setup\n",
    "import pandas as pd\n",
    "import numpy as np\n",
    "\n",
    "# Read Raw data file\n",
    "file_to_load = \"Resources/purchase_data.csv\"\n",
    "purchase_data = pd.read_csv(file_to_load)\n",
    "\n",
    "# Basic Observation\n",
    "len(purchase_data) #780 lines of observations\n",
    "purchase_data.head()\n",
    "list(purchase_data) #['Purchase ID', 'SN', 'Age', 'Gender', 'Item ID', 'Item Name', 'Price']"
   ]
  },
  {
   "cell_type": "code",
   "execution_count": 2,
   "metadata": {},
   "outputs": [
    {
     "name": "stdout",
     "output_type": "stream",
     "text": [
      "   Total Players\n",
      "0            576\n"
     ]
    }
   ],
   "source": [
    "#### 01 Player Count ####\n",
    "\n",
    "# 1-1 Display the total number of players\n",
    "unique_player_count=len(purchase_data[\"SN\"].unique()) #576 unique SNs\n",
    "\n",
    "q1={'Total Players':[unique_player_count]}\n",
    "q1=pd.DataFrame(data=q1)\n",
    "\n",
    "print(q1)  \n"
   ]
  },
  {
   "cell_type": "code",
   "execution_count": 4,
   "metadata": {},
   "outputs": [
    {
     "name": "stdout",
     "output_type": "stream",
     "text": [
      "   Number of Unique Items Average Price  Number of Purchases Total Revenue\n",
      "0                     183         $3.05                  780      $2379.77\n"
     ]
    }
   ],
   "source": [
    "#### 02 Purchasing Analysis (Total) ####\n",
    "\n",
    "# 2-1 Number of Unique Items\n",
    "unique_itemid_count=len(purchase_data[\"Item ID\"].unique())\n",
    "\n",
    "# 2-2 Average Purchase Price \n",
    "avg_purchase_price= round(purchase_data[\"Price\"].mean(),2) #3.05 USD\n",
    "\n",
    "# 2-3 Total Number of Purchases\n",
    "number_of_purchases=purchase_data['Purchase ID'].count() #780\n",
    "\n",
    "# 2-4 Total Revenue\n",
    "total_revenue=round(purchase_data['Price'].sum(),2) #2379.77 USD\n",
    "\n",
    "\n",
    "# Consolidation\n",
    "q2={'Number of Unique Items':[unique_itemid_count],\n",
    "    'Average Price':[avg_purchase_price],\n",
    "    'Number of Purchases':[number_of_purchases],\n",
    "    'Total Revenue':[total_revenue]}\n",
    "q2=pd.DataFrame(data=q2, columns=['Number of Unique Items', 'Average Price', 'Number of Purchases','Total Revenue'])\n",
    "\n",
    "# Formatting\n",
    "q2[\"Average Price\"]=q2[\"Average Price\"].map(\"${:.2f}\".format)\n",
    "q2[\"Total Revenue\"]=q2[\"Total Revenue\"].map(\"${:.2f}\".format)\n",
    "\n",
    "print(q2)"
   ]
  },
  {
   "cell_type": "code",
   "execution_count": 5,
   "metadata": {},
   "outputs": [
    {
     "name": "stdout",
     "output_type": "stream",
     "text": [
      "                      Percentage of Players  Total Count\n",
      "Gender                                                  \n",
      "Male                                 83.59%          652\n",
      "Female                               14.49%          113\n",
      "Other / Non-Disclosed                 1.92%           15\n"
     ]
    }
   ],
   "source": [
    "#### 03 Gender Demoraphics ####\n",
    "\n",
    "# 3-1 Percentage and Count of Male Players\n",
    "gender_breakdown = purchase_data.groupby(['Gender'])['SN'].count()\n",
    "gender_breakdown=pd.DataFrame(data=gender_breakdown)\n",
    "gender_breakdown[\"Percentage of Players\"]=(gender_breakdown[\"SN\"]/number_of_purchases)*100\n",
    "gender_breakdown[\"Percentage of Players\"]=gender_breakdown[\"Percentage of Players\"].map(\"{:.2f}%\".format)\n",
    "gender_breakdown=gender_breakdown.rename(columns={\"SN\":\"Total Count\"})\n",
    "\n",
    "q3=gender_breakdown[[\"Percentage of Players\",\"Total Count\"]].sort_values([\"Total Count\"],ascending=False)\n",
    "\n",
    "print(q3)"
   ]
  },
  {
   "cell_type": "code",
   "execution_count": 6,
   "metadata": {},
   "outputs": [
    {
     "name": "stdout",
     "output_type": "stream",
     "text": [
      "                       Purchase Count Average Purchase Price  \\\n",
      "Gender                                                         \n",
      "Female                            113                  $3.20   \n",
      "Male                              652                  $3.02   \n",
      "Other / Non-Disclosed              15                  $3.35   \n",
      "\n",
      "                      Total Purchase Value Normalized Totals  \n",
      "Gender                                                        \n",
      "Female                             $361.94             $3.20  \n",
      "Male                              $1967.64             $3.02  \n",
      "Other / Non-Disclosed               $50.19             $3.35  \n"
     ]
    }
   ],
   "source": [
    "#### 04 Purchasing Analysis by Gender ####\n",
    "\n",
    "# 4-1 Purchase Count by Gender\n",
    "gender_purchase_count = pd.DataFrame(purchase_data.groupby(['Gender'])['Purchase ID'].count())\n",
    "gender_purchase_count=gender_purchase_count.rename(columns={\"Purchase ID\":\"Purchase Count\"})\n",
    "\n",
    " \n",
    "# 4-2 Average Purchase Price by Gender\n",
    "gender_avg_price = pd.DataFrame(purchase_data.groupby(['Gender'])['Price'].mean())\n",
    "gender_avg_price[\"Price\"]=gender_avg_price[\"Price\"].map(\"${:.2f}\".format)\n",
    "gender_avg_price=gender_avg_price.rename(columns={\"Price\":\"Average Purchase Price\"})\n",
    "\n",
    "# 4-3 Total Purchase Value by Gender\n",
    "gender_total_purchase = pd.DataFrame(purchase_data.groupby(['Gender'])['Price'].sum())\n",
    "gender_total_purchase[\"Price\"]=gender_total_purchase[\"Price\"].map(\"${:.2f}\".format)\n",
    "gender_total_purchase=gender_total_purchase.rename(columns={\"Price\":\"Total Purchase Value\"})\n",
    "\n",
    "# 4-4 Normalized Totals by Gender <- What is definition of normalization? \n",
    "normalized_total=gender_avg_price\n",
    "normalized_total=normalized_total.rename(columns={\"Average Purchase Price\":\"Normalized Totals\"})\n",
    "\n",
    "# Consolidation\n",
    "q4=pd.concat([gender_purchase_count,gender_avg_price,gender_total_purchase,normalized_total],axis=1)\n",
    "\n",
    "print(q4)"
   ]
  },
  {
   "cell_type": "code",
   "execution_count": 7,
   "metadata": {},
   "outputs": [
    {
     "name": "stdout",
     "output_type": "stream",
     "text": [
      "           Total Count Percentage of Players Average Purchase Price  \\\n",
      "Age Group                                                             \n",
      "10-14               28                 3.59%                  $2.96   \n",
      "15-19              136                17.44%                  $3.04   \n",
      "20-24              365                46.79%                  $3.05   \n",
      "25-29              101                12.95%                  $2.90   \n",
      "30-34               73                 9.36%                  $2.93   \n",
      "35-39               41                 5.26%                  $3.60   \n",
      "40+                 13                 1.67%                  $2.94   \n",
      "<10                 23                 2.95%                  $3.35   \n",
      "\n",
      "          Total Purchase Value Normalized Totals  \n",
      "Age Group                                         \n",
      "10-14                   $82.78             $2.96  \n",
      "15-19                  $412.89             $3.04  \n",
      "20-24                 $1114.06             $3.05  \n",
      "25-29                  $293.00             $2.90  \n",
      "30-34                  $214.00             $2.93  \n",
      "35-39                  $147.67             $3.60  \n",
      "40+                     $38.24             $2.94  \n",
      "<10                     $77.13             $3.35  \n"
     ]
    }
   ],
   "source": [
    "#### 05 Age Demographics ####\n",
    "\n",
    "# 5-1 Create Bins\n",
    "purchase_data[\"Age\"].max() #45 as oldest age\n",
    "purchase_data[\"Age\"].min() #7 as youngest age\n",
    "\n",
    "age_bins = [0, 9.90, 14.90, 19.90, 24.90, 29.90, 34.90, 39.90, 99999]\n",
    "group_names = [\"<10\", \"10-14\", \"15-19\", \"20-24\", \"25-29\", \"30-34\", \"35-39\", \"40+\"]\n",
    " \n",
    "# 5-2 Add Bins to DataFrame\n",
    "purchase_data[\"Age Group\"] = pd.cut(purchase_data[\"Age\"], age_bins, labels=group_names)\n",
    "\n",
    "# 5-3 Purchase Count by Age Group\n",
    "agegroup_purchase_count = pd.DataFrame(purchase_data.groupby(['Age Group'])['Purchase ID'].count())\n",
    "agegroup_purchase_count=agegroup_purchase_count.rename(columns={\"Purchase ID\":\"Total Count\"})\n",
    "\n",
    "# 5-4 Percentage of Players by Age Group\n",
    "agegroup_purchase_count[\"Percentage of Players\"]=(agegroup_purchase_count[\"Total Count\"]/number_of_purchases)*100\n",
    "agegroup_purchase_count[\"Percentage of Players\"]=agegroup_purchase_count[\"Percentage of Players\"].map(\"{:.2f}%\".format)\n",
    " \n",
    "# 5-5 Average Purchase Price by Age Group\n",
    "agegroup_avg_price = pd.DataFrame(purchase_data.groupby(['Age Group'])['Price'].mean())\n",
    "agegroup_avg_price=agegroup_avg_price.rename(columns={\"Price\":\"Average Purchase Price\"})\n",
    "agegroup_avg_price [\"Average Purchase Price\"]=agegroup_avg_price [\"Average Purchase Price\"].map(\"${:.2f}\".format)\n",
    "\n",
    "\n",
    "#5-6 Total Purchase Value by Age Group\n",
    "agegroup_total_purchase = pd.DataFrame(purchase_data.groupby(['Age Group'])['Price'].sum())\n",
    "agegroup_total_purchase = agegroup_total_purchase.rename(columns={\"Price\":\"Total Purchase Value\"})\n",
    "agegroup_total_purchase[\"Total Purchase Value\"]=agegroup_total_purchase [\"Total Purchase Value\"].map(\"${:.2f}\".format)\n",
    "\n",
    "\n",
    "#5-7 Normalized Totals by Age Group <- What is definition of normalization? \n",
    "agegroup_normalized_totals=agegroup_avg_price\n",
    "agegroup_normalized_totals=agegroup_normalized_totals.rename(columns={\"Average Purchase Price\":\"Normalized Totals\"})\n",
    "\n",
    "# Consolidation\n",
    "q5=pd.concat([agegroup_purchase_count,agegroup_avg_price,agegroup_total_purchase,agegroup_normalized_totals],axis=1)\n",
    "\n",
    "print(q5)"
   ]
  },
  {
   "cell_type": "code",
   "execution_count": 8,
   "metadata": {},
   "outputs": [
    {
     "name": "stdout",
     "output_type": "stream",
     "text": [
      "             Purchase Count Average Purchase Price Total Purchase Value\n",
      "SN                                                                     \n",
      "Lisosia93                 5                  $3.79               $18.96\n",
      "Idastidru52               4                  $3.86               $15.45\n",
      "Chamjask73                3                  $4.61               $13.83\n",
      "Iral74                    4                  $3.40               $13.62\n",
      "Iskadarya95               3                  $4.37               $13.10\n"
     ]
    }
   ],
   "source": [
    "#### 06 Top Spenders ####\n",
    "\n",
    "\n",
    "# 6-1 Total Purchase Value by SN:\n",
    "sn_total_purchase=pd.DataFrame(purchase_data.groupby(['SN'])['Price'].sum())\n",
    "sn_total_purchase=sn_total_purchase.rename(columns={\"Price\":\"Total Purchase Value\"})\n",
    "\n",
    "# 6-2 Purchase Count by SN\n",
    "sn_purchase_count=pd.DataFrame(purchase_data.groupby(['SN'])['Purchase ID'].count())\n",
    "sn_purchase_count=sn_purchase_count.rename(columns={\"Purchase ID\":\"Purchase Count\"})\n",
    "\n",
    "# 6-3 Average Purchase Price by SN\n",
    "sn_purchase_avg=pd.DataFrame(purchase_data.groupby(['SN'])['Price'].mean())\n",
    "sn_purchase_avg=sn_purchase_avg.rename(columns={\"Price\":\"Average Purchase Price\"})\n",
    "sn_purchase_avg[\"Average Purchase Price\"]=sn_purchase_avg [\"Average Purchase Price\"].map(\"${:.2f}\".format)\n",
    "\n",
    "# 6-4 Consolidation\n",
    "q6=pd.concat([sn_purchase_count,sn_purchase_avg,sn_total_purchase],axis=1)\n",
    "\n",
    "# 6-5 Sort to Identify Top 5\n",
    "q6=q6.sort_values('Total Purchase Value', ascending=False).head(5)\n",
    "q6[\"Total Purchase Value\"]=q6[\"Total Purchase Value\"].map(\"${:.2f}\".format)\n",
    "\n",
    "print(q6)\n"
   ]
  },
  {
   "cell_type": "code",
   "execution_count": 9,
   "metadata": {},
   "outputs": [
    {
     "name": "stdout",
     "output_type": "stream",
     "text": [
      "                                        Item Name  Purchase Count Item Price  \\\n",
      "177  Oathbreaker, Last Hope of the Breaking Storm              12      $4.23   \n",
      "144                          Fiery Glass Crusader               9      $4.58   \n",
      "107     Extraction, Quickblade Of Trembling Hands               9      $3.53   \n",
      "81                                        Nirvana               9      $4.90   \n",
      "19                  Pursuit, Cudgel of Necromancy               8      $1.02   \n",
      "\n",
      "    Total Purchase Value  \n",
      "177               $50.76  \n",
      "144               $41.22  \n",
      "107               $31.77  \n",
      "81                $44.10  \n",
      "19                 $8.16  \n"
     ]
    }
   ],
   "source": [
    "#### 07 Most Popular Items ####\n",
    "#Identify the 5 most popular items by purchase count, then list (in a table):\n",
    "\n",
    "# 7-1 Total Purchase Count by Item ID\n",
    "item_purchase_count=pd.DataFrame(purchase_data.groupby(['Item ID','Item Name','Price'])['Purchase ID'].count()).reset_index()\n",
    "item_purchase_count=item_purchase_count.rename(columns={\"Purchase ID\":\"Purchase Count\"})\n",
    "item_purchase_count=item_purchase_count.rename(columns={\"Price\":\"Item Price\"})\n",
    "\n",
    "\n",
    "# 7-2 Total Purchase Value by Item ID:\n",
    "item_total_purchase=pd.DataFrame(purchase_data.groupby(['Item ID'])['Price'].sum())\n",
    "item_total_purchase=item_total_purchase.rename(columns={\"Price\":\"Total Purchase Value\"}).reset_index()\n",
    "\n",
    "# 7-3 Consolidation\n",
    "q7=pd.merge(item_purchase_count,item_total_purchase,on=\"Item ID\",how=\"outer\")\n",
    "\n",
    "# 7-4 Sort to Identify Top 5 by Purchase Count\n",
    "q7=q7.sort_values('Purchase Count', ascending=False).head(5)\n",
    "q7[\"Total Purchase Value\"]=q7[\"Total Purchase Value\"].map(\"${:.2f}\".format)\n",
    "q7[\"Item Price\"]=q7[\"Item Price\"].map(\"${:.2f}\".format)\n",
    "q7=q7[[\"Item Name\",\"Purchase Count\",\"Item Price\",\"Total Purchase Value\"]]\n",
    "print(q7)\n"
   ]
  },
  {
   "cell_type": "code",
   "execution_count": 10,
   "metadata": {},
   "outputs": [
    {
     "name": "stdout",
     "output_type": "stream",
     "text": [
      "                                        Item Name  Purchase Count Item Price  \\\n",
      "177  Oathbreaker, Last Hope of the Breaking Storm              12      $4.23   \n",
      "81                                        Nirvana               9      $4.90   \n",
      "144                          Fiery Glass Crusader               9      $4.58   \n",
      "91                                   Final Critic               8      $4.88   \n",
      "102                                Singed Scalpel               8      $4.35   \n",
      "\n",
      "    Total Purchase Value  \n",
      "177               $50.76  \n",
      "81                $44.10  \n",
      "144               $41.22  \n",
      "91                $39.04  \n",
      "102               $34.80  \n"
     ]
    }
   ],
   "source": [
    "#### 08 Most Profitable Items ####\n",
    "#Identify the 5 most profitable items by total purchase value, then list (in a table):\n",
    "\n",
    "# 8-1 Sort to Identify Top 5 by Total Purchase Value\n",
    "q8=pd.merge(item_purchase_count,item_total_purchase,on=\"Item ID\",how=\"outer\")\n",
    "\n",
    "q8=q8.sort_values('Total Purchase Value', ascending=False).head(5)\n",
    "q8[\"Total Purchase Value\"]=q8[\"Total Purchase Value\"].map(\"${:.2f}\".format)\n",
    "q8[\"Item Price\"]=q8[\"Item Price\"].map(\"${:.2f}\".format)\n",
    "q8=q8[[\"Item Name\",\"Purchase Count\",\"Item Price\",\"Total Purchase Value\"]]\n",
    "\n",
    "print(q8)"
   ]
  },
  {
   "cell_type": "code",
   "execution_count": null,
   "metadata": {},
   "outputs": [],
   "source": []
  }
 ],
 "metadata": {
  "kernelspec": {
   "display_name": "Python 3",
   "language": "python",
   "name": "python3"
  },
  "language_info": {
   "codemirror_mode": {
    "name": "ipython",
    "version": 3
   },
   "file_extension": ".py",
   "mimetype": "text/x-python",
   "name": "python",
   "nbconvert_exporter": "python",
   "pygments_lexer": "ipython3",
   "version": "3.6.5"
  }
 },
 "nbformat": 4,
 "nbformat_minor": 2
}
